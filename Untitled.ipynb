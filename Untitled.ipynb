{
 "cells": [
  {
   "cell_type": "code",
   "execution_count": 1,
   "id": "58e9748b-a38c-4b10-ab14-9e4fb7e9fb65",
   "metadata": {},
   "outputs": [],
   "source": [
    "from pyspark.sql import SparkSession\n",
    "from pyspark.sql.functions import col, to_date, sum as F_sum"
   ]
  },
  {
   "cell_type": "code",
   "execution_count": 4,
   "id": "b53f7a67-c05c-4c5f-8378-72005e0454f4",
   "metadata": {},
   "outputs": [],
   "source": [
    "spark = SparkSession.builder \\\n",
    "    .appName(\"Tokyo Olympic Data Transformation\") \\\n",
    "    .config(\"spark.driver.host\", \"127.0.0.1\") \\\n",
    "    .getOrCreate()\n"
   ]
  },
  {
   "cell_type": "code",
   "execution_count": 12,
   "id": "fe8f1b57-020c-4334-9fd1-fa9532558bc4",
   "metadata": {},
   "outputs": [],
   "source": [
    "mkdir -p /Users/deepasangoll/Final Project ADW/output/gold/\n"
   ]
  },
  {
   "cell_type": "code",
   "execution_count": 13,
   "id": "72bf9560-5976-4c81-b907-06fa8ff0f91f",
   "metadata": {},
   "outputs": [],
   "source": [
    "# Save Dimension and Fact Tables\n",
    "output_base_path = \"/Users/deepasangoll/Final Project ADW/output/gold/\"\n",
    "dim_athletes.write.format(\"parquet\").mode(\"overwrite\").save(output_base_path + \"dim_athletes\")\n",
    "dim_coaches.write.format(\"parquet\").mode(\"overwrite\").save(output_base_path + \"dim_coaches\")\n",
    "dim_teams.write.format(\"parquet\").mode(\"overwrite\").save(output_base_path + \"dim_teams\")\n",
    "fact_medal_wins.write.format(\"parquet\").mode(\"overwrite\").save(output_base_path + \"fact_medal_wins\")\n",
    "fact_entries_gender.write.format(\"parquet\").mode(\"overwrite\").save(output_base_path + \"fact_entries_gender\")\n",
    "\n",
    "# Terminate Spark Session\n",
    "spark.stop()\n"
   ]
  },
  {
   "cell_type": "code",
   "execution_count": 17,
   "id": "8b8d6631-e275-4bb1-9203-815634de55f9",
   "metadata": {},
   "outputs": [
    {
     "name": "stdout",
     "output_type": "stream",
     "text": [
      "Spark Session initialized.\n",
      "Data loaded successfully.\n",
      "Data cleaned and transformed.\n",
      "Dimension tables created.\n",
      "Fact tables created.\n",
      "Output directory verified: /Users/deepasangoll/Final Project ADW/Final Project ADW/gold/\n",
      "Dimension table for athletes saved as CSV.\n",
      "Dimension table for coaches saved as CSV.\n",
      "Dimension table for teams saved as CSV.\n",
      "Fact table for medal wins saved as CSV.\n",
      "Fact table for entries by gender saved as CSV.\n",
      "Spark Session terminated. Processing complete.\n"
     ]
    }
   ],
   "source": [
    "# Import necessary libraries\n",
    "from pyspark.sql import SparkSession\n",
    "from pyspark.sql.functions import col, to_date, sum as F_sum\n",
    "import os\n",
    "\n",
    "# Initialize Spark Session with configuration\n",
    "spark = SparkSession.builder \\\n",
    "    .appName(\"Tokyo Olympic Data Transformation\") \\\n",
    "    .config(\"spark.driver.host\", \"127.0.0.1\") \\\n",
    "    .getOrCreate()\n",
    "\n",
    "# Set log level to ERROR to reduce log output verbosity\n",
    "spark.sparkContext.setLogLevel(\"ERROR\")\n",
    "\n",
    "print(\"Spark Session initialized.\")\n",
    "\n",
    "# Bronze Layer: Load Raw Data\n",
    "athletes = spark.read.format(\"csv\").option(\"header\", \"true\").option(\"inferSchema\", \"true\").load(\"/Users/deepasangoll/Final Project ADW/raw-data/athletes.csv\")\n",
    "coaches = spark.read.format(\"csv\").option(\"header\", \"true\").option(\"inferSchema\", \"true\").load(\"/Users/deepasangoll/Final Project ADW/raw-data/coaches.csv\")\n",
    "entriesgender = spark.read.format(\"csv\").option(\"header\", \"true\").option(\"inferSchema\", \"true\").load(\"/Users/deepasangoll/Final Project ADW/raw-data/entriesgender.csv\")\n",
    "medals = spark.read.format(\"csv\").option(\"header\", \"true\").option(\"inferSchema\", \"true\").load(\"/Users/deepasangoll/Final Project ADW/raw-data/medals.csv\")\n",
    "teams = spark.read.format(\"csv\").option(\"header\", \"true\").option(\"inferSchema\", \"true\").load(\"/Users/deepasangoll/Final Project ADW/raw-data/teams.csv\")\n",
    "\n",
    "print(\"Data loaded successfully.\")\n",
    "\n",
    "# Silver Layer: Clean and Transform Data\n",
    "athletes = athletes.dropDuplicates()\n",
    "coaches = coaches.dropDuplicates().fillna({\"Name\": \"Unknown\"})\n",
    "entriesgender = entriesgender.dropDuplicates()\n",
    "medals = medals.dropDuplicates()\n",
    "teams = teams.dropDuplicates()\n",
    "\n",
    "print(\"Data cleaned and transformed.\")\n",
    "\n",
    "# Gold Layer: Create Dimension Tables\n",
    "dim_athletes = athletes.select(col(\"PersonName\").alias(\"athlete_name\"), \"Country\", \"Discipline\").dropDuplicates()\n",
    "dim_coaches = coaches.select(col(\"Name\").alias(\"coach_name\"), \"Country\", \"Discipline\").dropDuplicates()\n",
    "dim_teams = teams.select(col(\"TeamName\").alias(\"team_name\"), \"Discipline\", \"Country\").dropDuplicates()\n",
    "\n",
    "print(\"Dimension tables created.\")\n",
    "\n",
    "# Gold Layer: Create Fact Tables\n",
    "fact_medal_wins = medals.groupBy(\"Team_Country\").agg(\n",
    "    F_sum(\"Gold\").alias(\"total_gold\"),\n",
    "    F_sum(\"Silver\").alias(\"total_silver\"),\n",
    "    F_sum(\"Bronze\").alias(\"total_bronze\")\n",
    ")\n",
    "fact_entries_gender = entriesgender.groupBy(\"Discipline\").agg(\n",
    "    F_sum(\"Male\").alias(\"total_male_entries\"),\n",
    "    F_sum(\"Female\").alias(\"total_female_entries\")\n",
    ")\n",
    "\n",
    "print(\"Fact tables created.\")\n",
    "\n",
    "# Define the base output path\n",
    "output_base_path = \"/Users/deepasangoll/Final Project ADW/Final Project ADW/gold/\"\n",
    "\n",
    "# Ensure the directory exists\n",
    "os.makedirs(output_base_path, exist_ok=True)\n",
    "print(f\"Output directory verified: {output_base_path}\")\n",
    "\n",
    "# Save Dimension and Fact Tables as CSV files\n",
    "dim_athletes.write.format(\"csv\").mode(\"overwrite\").option(\"header\", \"true\").save(output_base_path + \"dim_athletes\")\n",
    "print(\"Dimension table for athletes saved as CSV.\")\n",
    "\n",
    "dim_coaches.write.format(\"csv\").mode(\"overwrite\").option(\"header\", \"true\").save(output_base_path + \"dim_coaches\")\n",
    "print(\"Dimension table for coaches saved as CSV.\")\n",
    "\n",
    "dim_teams.write.format(\"csv\").mode(\"overwrite\").option(\"header\", \"true\").save(output_base_path + \"dim_teams\")\n",
    "print(\"Dimension table for teams saved as CSV.\")\n",
    "\n",
    "fact_medal_wins.write.format(\"csv\").mode(\"overwrite\").option(\"header\", \"true\").save(output_base_path + \"fact_medal_wins\")\n",
    "print(\"Fact table for medal wins saved as CSV.\")\n",
    "\n",
    "fact_entries_gender.write.format(\"csv\").mode(\"overwrite\").option(\"header\", \"true\").save(output_base_path + \"fact_entries_gender\")\n",
    "print(\"Fact table for entries by gender saved as CSV.\")\n",
    "\n",
    "# Terminate Spark Session\n",
    "spark.stop()\n",
    "print(\"Spark Session terminated. Processing complete.\")\n"
   ]
  },
  {
   "cell_type": "code",
   "execution_count": null,
   "id": "b1501643-771b-4135-a3f3-0ced156e457b",
   "metadata": {},
   "outputs": [],
   "source": []
  }
 ],
 "metadata": {
  "kernelspec": {
   "display_name": "Python 3 (ipykernel)",
   "language": "python",
   "name": "python3"
  },
  "language_info": {
   "codemirror_mode": {
    "name": "ipython",
    "version": 3
   },
   "file_extension": ".py",
   "mimetype": "text/x-python",
   "name": "python",
   "nbconvert_exporter": "python",
   "pygments_lexer": "ipython3",
   "version": "3.12.0"
  }
 },
 "nbformat": 4,
 "nbformat_minor": 5
}
